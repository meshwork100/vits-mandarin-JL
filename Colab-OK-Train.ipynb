{
  "cells": [
    {
      "cell_type": "markdown",
      "metadata": {
        "id": "65CU-n-JHhbY"
      },
      "source": [
        "## 按行点击即可进行自动炼丹\n",
        "## 等完全运行完后再点下一行\n",
        "## 不要跨行运行或着连点多行"
      ]
    },
    {
      "cell_type": "markdown",
      "metadata": {
        "id": "uX3RaS3H4pcU"
      },
      "source": [
        "# Clone Github Repo"
      ]
    },
    {
      "cell_type": "code",
      "execution_count": null,
      "metadata": {
        "id": "i_0vZ-OjHVNu"
      },
      "outputs": [],
      "source": [
        "!git clone https://github.com/AlexandaJerry/vits-mandarin-JL\n",
        "%cd vits-mandarin-JL"
      ]
    },
    {
      "cell_type": "code",
      "execution_count": null,
      "metadata": {
        "id": "smGF80ufrZxu"
      },
      "outputs": [],
      "source": [
        "!/opt/bin/nvidia-smi"
      ]
    },
    {
      "cell_type": "code",
      "execution_count": null,
      "metadata": {
        "id": "6vOAlBTavYsc"
      },
      "outputs": [],
      "source": [
        "!pip install -r requirements.txt\n",
        "!sudo apt-get install espeak -y"
      ]
    },
    {
      "cell_type": "markdown",
      "metadata": {
        "id": "UZ9maSoUmHaS"
      },
      "source": [
        "# Unpack dataset"
      ]
    },
    {
      "cell_type": "code",
      "execution_count": null,
      "metadata": {
        "id": "mNnggOdetwDf"
      },
      "outputs": [],
      "source": [
        "!wget --load-cookies /tmp/cookies.txt \"https://docs.google.com/uc?export=download&confirm=$(wget --quiet --save-cookies /tmp/cookies.txt --keep-session-cookies --no-check-certificate 'https://docs.google.com/uc?export=download&id=1BhRQBNcoEq4tprikwEy0RSOWflTrFwYD' -O- | sed -rn 's/.*confirm=([0-9A-Za-z_]+).*/\\1\\n/p')&id=1BhRQBNcoEq4tprikwEy0RSOWflTrFwYD\" -O biaobei.rar && rm -rf /tmp/cookies.txt"
      ]
    },
    {
      "cell_type": "code",
      "execution_count": null,
      "metadata": {
        "id": "N3a-FsHghwXS"
      },
      "outputs": [],
      "source": [
        "!pip install pyunpack\n",
        "!pip install patool\n",
        "from pyunpack import Archive\n",
        "%cd vits-mandarin-JL\n",
        "%mkdir biaobei\n",
        "Archive('biaobei.rar').extractall('/content/vits-mandarin-JL/')"
      ]
    },
    {
      "cell_type": "code",
      "execution_count": null,
      "metadata": {
        "id": "gB6Bz3KoWYra"
      },
      "outputs": [],
      "source": [
        "!sudo apt-get install sox"
      ]
    },
    {
      "cell_type": "code",
      "execution_count": null,
      "metadata": {
        "id": "UQT4d7zqcaF5"
      },
      "outputs": [],
      "source": [
        "%cd /content/vits-mandarin-JL/files"
      ]
    },
    {
      "cell_type": "code",
      "execution_count": 8,
      "metadata": {
        "id": "5E0ENKZiduQ-"
      },
      "outputs": [],
      "source": [
        "%%bash\n",
        "for x in ./*.wav\n",
        "do \n",
        "  b=${x##*/}\n",
        "  sox $b -r 22050 tmp_$b\n",
        "  rm -rf $b\n",
        "  mv tmp_$b $b\n",
        "done"
      ]
    },
    {
      "cell_type": "markdown",
      "metadata": {
        "id": "LY9d2hgjmYUF"
      },
      "source": [
        "# Alignment and Text Clean"
      ]
    },
    {
      "cell_type": "code",
      "execution_count": null,
      "metadata": {
        "id": "L-pAq7ppSp-Z"
      },
      "outputs": [],
      "source": [
        "import os\n",
        "path = \"/content/vits-mandarin-JL\"\n",
        "os.chdir(path)\n",
        "print(os.getcwd())"
      ]
    },
    {
      "cell_type": "code",
      "execution_count": null,
      "metadata": {
        "id": "LOsV22D8IUTS"
      },
      "outputs": [],
      "source": [
        "%cd monotonic_align\n",
        "!python setup.py build_ext --inplace\n",
        "%cd .."
      ]
    },
    {
      "cell_type": "code",
      "execution_count": null,
      "metadata": {
        "id": "5feIfJWdRNRB"
      },
      "outputs": [],
      "source": [
        "import os\n",
        "path = \"/content/vits-mandarin-JL\"\n",
        "os.chdir(path)\n",
        "print(os.getcwd())"
      ]
    },
    {
      "cell_type": "code",
      "execution_count": null,
      "metadata": {
        "id": "JXYOrkJmRuSh"
      },
      "outputs": [],
      "source": [
        "!python preprocess.py --text_index 1 --text_cleaners chinese_cleaners1 --filelists /content/vits-mandarin-JL/filelists/train_filelist.txt"
      ]
    },
    {
      "cell_type": "markdown",
      "metadata": {
        "id": "VPAyzqfZuuw5"
      },
      "source": [
        "# Train"
      ]
    },
    {
      "cell_type": "code",
      "execution_count": 13,
      "metadata": {
        "id": "MrV5GulH3us_"
      },
      "outputs": [],
      "source": [
        "#Tesla-P100-16G的GPU每个epoch大概需要5分钟左右\n",
        "#每经过约3个epoch会存储新的checkpoint到/content/vits-mandarin-JL/logs/biaobei_base\n",
        "#如果提示显存不足的话，需要去/content/vits-mandarin-JL/configs/biaobei_base.json\n",
        "#把里面的batch_size从16降到8，然后重新运行该代码框\n",
        "!python train.py -c configs/biaobei_base.json -m biaobei_base"
      ]
    },
    {
      "cell_type": "markdown",
      "metadata": {
        "id": "ZlR5qD6b5uVp"
      },
      "source": [
        "---\n",
        "\n",
        "\n",
        "---\n",
        "\n",
        "\n",
        "#Inference:\n",
        "#上个板块训练差不多后在菜单栏\"代码执行程序\"的下拉菜单选择\"中断执行\"\n",
        "#然后在上方菜单栏\"代码执行程序\"的下拉菜单选择\"重新启动代码执行程序\"\n",
        "#然后从下面这个代码框开始，按照顺序依次运行，最后即可得到合成的语音\n",
        "#流程务必遵循：中断执行→重新启动代码执行程序→运行后续代码框"
      ]
    },
    {
      "cell_type": "code",
      "execution_count": null,
      "metadata": {
        "id": "S8gpGR7HUx8w"
      },
      "outputs": [],
      "source": [
        "import os\n",
        "path = \"/content/vits-mandarin-JL\"\n",
        "os.chdir(path)\n",
        "print(os.getcwd())\n",
        "\n",
        "%matplotlib inline\n",
        "import matplotlib.pyplot as plt\n",
        "import IPython.display as ipd\n",
        "\n",
        "import os\n",
        "import json\n",
        "import math\n",
        "import torch\n",
        "from torch import nn\n",
        "from torch.nn import functional as F\n",
        "from torch.utils.data import DataLoader\n",
        "\n",
        "import commons\n",
        "import utils\n",
        "from data_utils import TextAudioLoader, TextAudioCollate, TextAudioSpeakerLoader, TextAudioSpeakerCollate\n",
        "from models import SynthesizerTrn\n",
        "from text.symbols import symbols\n",
        "from text import text_to_sequence\n",
        "\n",
        "from scipy.io.wavfile import write\n",
        "\n",
        "\n",
        "def get_text(text, hps):\n",
        "    text_norm = text_to_sequence(text, hps.data.text_cleaners)\n",
        "    if hps.data.add_blank:\n",
        "        text_norm = commons.intersperse(text_norm, 0)\n",
        "    text_norm = torch.LongTensor(text_norm)\n",
        "    return text_norm"
      ]
    },
    {
      "cell_type": "code",
      "execution_count": 2,
      "metadata": {
        "id": "o3OCVb09sM3D"
      },
      "outputs": [],
      "source": [
        "hps = utils.get_hparams_from_file(\"/content/vits-mandarin-JL/configs/biaobei_base.json\")"
      ]
    },
    {
      "attachments": {},
      "cell_type": "markdown",
      "metadata": {
        "id": "JiOAJTvy584m"
      },
      "source": [
        "#下面这个\"/content/vits-mandarin-JL/logs/biaobei_base/G_10000.pth\"需要去看下\n",
        "#vits-mandarin-JL文件夹下的log文件夹里的G_?????.pth后缀的数字最大是多少"
      ]
    },
    {
      "cell_type": "code",
      "execution_count": 3,
      "metadata": {
        "id": "O3K5fYBnJSfT"
      },
      "outputs": [],
      "source": [
        "net_g = SynthesizerTrn(\n",
        "    len(symbols),\n",
        "    hps.data.filter_length // 2 + 1,\n",
        "    hps.train.segment_size // hps.data.hop_length,\n",
        "    **hps.model).cuda()\n",
        "_ = net_g.eval()\n",
        "\n",
        "_ = utils.load_checkpoint(\"/content/vits-mandarin-JL/logs/biaobei_base/G_?????.pth\", net_g, None)"
      ]
    },
    {
      "cell_type": "code",
      "execution_count": null,
      "metadata": {
        "id": "Q1MxZNQudiPa"
      },
      "outputs": [],
      "source": [
        "stn_tst = get_text(\"别在这里发癫。\", hps)\n",
        "with torch.no_grad():\n",
        "    x_tst = stn_tst.cuda().unsqueeze(0)\n",
        "    x_tst_lengths = torch.LongTensor([stn_tst.size(0)]).cuda()\n",
        "    audio = net_g.infer(x_tst, x_tst_lengths, noise_scale=.667, noise_scale_w=0.8, length_scale=1)[0][0,0].data.cpu().float().numpy()\n",
        "ipd.display(ipd.Audio(audio, rate=hps.data.sampling_rate))"
      ]
    }
  ],
  "metadata": {
    "accelerator": "GPU",
    "colab": {
      "collapsed_sections": [],
      "name": "“vits.ipynb”的副本",
      "provenance": []
    },
    "gpuClass": "standard",
    "kernelspec": {
      "display_name": "Python 3",
      "name": "python3"
    },
    "language_info": {
      "name": "python"
    }
  },
  "nbformat": 4,
  "nbformat_minor": 0
}
